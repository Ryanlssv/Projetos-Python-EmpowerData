{
 "cells": [
  {
   "attachments": {},
   "cell_type": "markdown",
   "metadata": {},
   "source": [
    " # Criando As Entradas de dados"
   ]
  },
  {
   "cell_type": "code",
   "execution_count": 11,
   "metadata": {},
   "outputs": [],
   "source": [
    "projeto = input(\"Digite a Descrição do Projeto: \")\n",
    "hora_estimada = input (\"Digite o total de horas estimadas: \")\n",
    "valor_hora = input (\"Digite o valor Da Hora Trabalhada: \")\n",
    "Prazo_estimado = input(\"Digite o Prazo estimado: \")\n"
   ]
  },
  {
   "attachments": {},
   "cell_type": "markdown",
   "metadata": {},
   "source": [
    "# Calculando o Valor total estimado\n"
   ]
  },
  {
   "cell_type": "code",
   "execution_count": 12,
   "metadata": {},
   "outputs": [
    {
     "name": "stdout",
     "output_type": "stream",
     "text": [
      "10935\n"
     ]
    }
   ],
   "source": [
    "valor_total_estimado = int(hora_estimada) * int (valor_hora)\n",
    "print(valor_total_estimado)"
   ]
  },
  {
   "attachments": {},
   "cell_type": "markdown",
   "metadata": {},
   "source": [
    "# Gerando o PDF"
   ]
  },
  {
   "cell_type": "code",
   "execution_count": 13,
   "metadata": {},
   "outputs": [],
   "source": [
    "from fpdf import FPDF\n",
    "pdf = FPDF()\n",
    "pdf.add_page()\n",
    "pdf.set_font(\"Arial\")\n",
    "\n",
    "#Inserindo Os Dados No PDF\n",
    "\n",
    "#Utilizando Um Templete\n",
    "pdf.image(\"template.png\", x=0, y=0)\n",
    "\n",
    "#Dados\n",
    "pdf.text(115,145,projeto)\n",
    "pdf.text(115,160,hora_estimada)\n",
    "pdf.text(115,175,valor_hora)\n",
    "pdf.text(115,190,Prazo_estimado)\n",
    "pdf.text(115,205,str(valor_total_estimado))"
   ]
  },
  {
   "cell_type": "code",
   "execution_count": 14,
   "metadata": {},
   "outputs": [
    {
     "name": "stdout",
     "output_type": "stream",
     "text": [
      "Orçamento Gerado com sucesso\n"
     ]
    }
   ],
   "source": [
    "#Salvando arquivo\n",
    "pdf.output(\"Orçamento.pdf\")\n",
    "print(\"Orçamento Gerado com sucesso\")"
   ]
  }
 ],
 "metadata": {
  "kernelspec": {
   "display_name": "Python 3",
   "language": "python",
   "name": "python3"
  },
  "language_info": {
   "codemirror_mode": {
    "name": "ipython",
    "version": 3
   },
   "file_extension": ".py",
   "mimetype": "text/x-python",
   "name": "python",
   "nbconvert_exporter": "python",
   "pygments_lexer": "ipython3",
   "version": "3.12.0"
  },
  "orig_nbformat": 4
 },
 "nbformat": 4,
 "nbformat_minor": 2
}
