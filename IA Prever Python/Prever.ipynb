{
 "cells": [
  {
   "attachments": {},
   "cell_type": "markdown",
   "metadata": {},
   "source": [
    "## Prever o valor futuro de uma ação."
   ]
  },
  {
   "cell_type": "code",
   "execution_count": null,
   "metadata": {},
   "outputs": [],
   "source": [
    "import yfinance as yf\n",
    "from prophet import Prophet\n",
    "from prophet.plot import plot_plotly"
   ]
  },
  {
   "cell_type": "code",
   "execution_count": null,
   "metadata": {},
   "outputs": [],
   "source": [
    "#Carregando os dados históricos\n",
    "ticker = input(\"Digite o código da ação desejada: \")\n",
    "dados = yf.Ticker(ticker).history(\"2y\")\n",
    "#Gráfico da variação do período histórico\n",
    "dados.Close.plot()"
   ]
  },
  {
   "cell_type": "code",
   "execution_count": null,
   "metadata": {},
   "outputs": [],
   "source": [
    "#Preparando os dados de treinamento da IA\n",
    "treinamento = dados.reset_index()\n",
    "# retirando o timezone (fuso horário) da coluna de data\n",
    "treinamento[\"Date\"] = treinamento[\"Date\"].dt.tz_localize(None)\n",
    "# selecionando as colunas de data e valor de fechamento\n",
    "treinamento = treinamento[['Date','Close']]\n",
    "# renomeando as colunas (o Prophet precisa receber os dados com esse padrão)\n",
    "treinamento.columns = ['ds','y']"
   ]
  },
  {
   "cell_type": "code",
   "execution_count": null,
   "metadata": {},
   "outputs": [],
   "source": [
    "# criando o modelo\n",
    "modelo = Prophet()\n",
    "# treinando o modelo com os dados de treinamento\n",
    "modelo.fit(treinamento)\n",
    "# especificando o período das previsões (em dias)\n",
    "periodo = modelo.make_future_dataframe(periods=90)\n",
    "# gerando as previsões\n",
    "previsoes = modelo.predict(periodo)\n",
    "#Gerando o gráfico de previsões\n",
    "plot_plotly(modelo, previsoes, xlabel = \"período\", ylabel=\"valor\")"
   ]
  },
  {
   "attachments": {},
   "cell_type": "markdown",
   "metadata": {},
   "source": [
    "## Grafico gerador coom sucesso"
   ]
  }
 ],
 "metadata": {
  "kernelspec": {
   "display_name": "Python 3",
   "language": "python",
   "name": "python3"
  },
  "language_info": {
   "codemirror_mode": {
    "name": "ipython",
    "version": 3
   },
   "file_extension": ".py",
   "mimetype": "text/x-python",
   "name": "python",
   "nbconvert_exporter": "python",
   "pygments_lexer": "ipython3",
   "version": "3.12.0"
  },
  "orig_nbformat": 4
 },
 "nbformat": 4,
 "nbformat_minor": 2
}
