{
 "cells": [
  {
   "attachments": {},
   "cell_type": "markdown",
   "metadata": {},
   "source": [
    "## Buscando a cotação de um ação"
   ]
  },
  {
   "cell_type": "code",
   "execution_count": null,
   "metadata": {},
   "outputs": [],
   "source": [
    "import yfinance\n",
    "ticker = input(\"Digite o codigo da Ação: \")\n",
    "dados = yfinance.Ticker(ticker)\n"
   ]
  },
  {
   "cell_type": "code",
   "execution_count": null,
   "metadata": {},
   "outputs": [],
   "source": [
    "tabela = dados.history(\"6mo\")\n",
    "tabela"
   ]
  },
  {
   "attachments": {},
   "cell_type": "markdown",
   "metadata": {},
   "source": [
    "## Selecionando apenas a coluna de Fechamento (Close)"
   ]
  },
  {
   "cell_type": "code",
   "execution_count": null,
   "metadata": {},
   "outputs": [],
   "source": [
    "fechamento = tabela.Close\n",
    "fechamento\n",
    "#Gerando um grafico em linha\n",
    "fechamento.plot()"
   ]
  },
  {
   "attachments": {},
   "cell_type": "markdown",
   "metadata": {},
   "source": [
    "## Gerando as estatísticas"
   ]
  },
  {
   "cell_type": "code",
   "execution_count": null,
   "metadata": {},
   "outputs": [],
   "source": [
    "maxima = fechamento.max()\n",
    "minima = fechamento.min()\n",
    "atual = fechamento[-1]\n",
    "print(maxima)\n",
    "print(minima)\n",
    "print(atual)"
   ]
  },
  {
   "attachments": {},
   "cell_type": "markdown",
   "metadata": {},
   "source": [
    "## Criando o e-mail que vamos enviar"
   ]
  },
  {
   "cell_type": "code",
   "execution_count": 55,
   "metadata": {},
   "outputs": [
    {
     "name": "stdout",
     "output_type": "stream",
     "text": [
      "ColoqueAquioEmail@gmail.com\n",
      "Analise diária\n",
      "\n",
      "Bom dia,\n",
      "Segue abaixo as análises da ação PETR4.SA dos últimos seis meses:\n",
      "\n",
      "Cotação máxima: R$38.96\n",
      "Cotação mínima: R$27.26\n",
      "Cotação atual: R$38.17\n",
      "Atenciosamente,\n",
      "Equipe de Analise.\n",
      "\n"
     ]
    }
   ],
   "source": [
    "destinatario = \"lucenaryan02@gmail.com\"\n",
    "assunto = \"Analise diária\"\n",
    "mensagem = f\"\"\"\n",
    "Bom dia,\n",
    "Segue abaixo as análises da ação {ticker} dos últimos seis meses:\n",
    "\n",
    "Cotação máxima: R${round(maxima,2)}\n",
    "Cotação mínima: R${round(minima,2)}\n",
    "Cotação atual: R${round(atual,2)}\n",
    "Atenciosamente,\n",
    "Equipe de Analise.\n",
    "\"\"\"\n",
    "print(destinatario)\n",
    "print(assunto)\n",
    "print(mensagem)"
   ]
  },
  {
   "attachments": {},
   "cell_type": "markdown",
   "metadata": {},
   "source": [
    "## Automatizando o envio"
   ]
  },
  {
   "cell_type": "code",
   "execution_count": 57,
   "metadata": {},
   "outputs": [],
   "source": [
    "import pyautogui\n",
    "import pyperclip\n",
    "import time\n",
    "\n",
    "# configurar uma pausa entre as ações do pyautogui\n",
    "pyautogui.PAUSE = 3\n",
    "\n",
    "\n",
    "# Enviando o Email\n",
    "time.sleep(3)\n",
    "pyautogui.hotkey(\"ctrl\", \"t\")\n",
    "time.sleep(2)\n",
    "#Acessando o Gmail\n",
    "pyautogui.write(\"https://mail.google.com/mail/u/0/?tab=rm&ogbl#inbox\")\n",
    "pyautogui.press(\"enter\")\n",
    "time.sleep(10)\n",
    "pyautogui.click(x=44, y=167)\n",
    "time.sleep(1)\n",
    "#colocando As Informações\n",
    "pyautogui.write(destinatario)\n",
    "time.sleep(1)\n",
    "pyautogui.click(x=944, y=357)\n",
    "time.sleep(2)\n",
    "pyautogui.press(\"tab\")\n",
    "time.sleep(1)\n",
    "pyautogui.write(assunto)\n",
    "time.sleep(1)\n",
    "pyautogui.press(\"tab\")\n",
    "time.sleep(1)\n",
    "pyautogui.write(mensagem)\n",
    "#Enviando\n",
    "time.sleep(1)\n",
    "pyautogui.click(x=849, y=696)\n",
    "\n",
    "print(\"Email enviado com sucesso\")\n"
   ]
  }
 ],
 "metadata": {
  "kernelspec": {
   "display_name": "Python 3",
   "language": "python",
   "name": "python3"
  },
  "language_info": {
   "codemirror_mode": {
    "name": "ipython",
    "version": 3
   },
   "file_extension": ".py",
   "mimetype": "text/x-python",
   "name": "python",
   "nbconvert_exporter": "python",
   "pygments_lexer": "ipython3",
   "version": "3.12.0"
  },
  "orig_nbformat": 4
 },
 "nbformat": 4,
 "nbformat_minor": 2
}
